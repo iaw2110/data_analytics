{
 "cells": [
  {
   "cell_type": "markdown",
   "metadata": {},
   "source": [
    "<h1>Problem 1:</h1>\n",
    "Write a function that reads timeseries pricing data from a file into a pandas dataframe and then groups the data as follows:\n",
    "<li>The arguments to the function are the filename and a threshold number\n",
    "<li>The function reads the data in the file and creates a new column \"pct_change\" with the one day percent change\n",
    "<li>Then groups the data into four categories:\n",
    "<ul>\n",
    "<li>\"High+\" if the percent change is greater than the threshold \n",
    "<li>\"Low+\" if the percent change is zero or positive and less than or equal to the threshold% \n",
    "<li>\"Low-\" if the percent change is negative but greater than or equal to -1 * the threshold\n",
    "<li>\"High-\" if the percent change is less than -1 * the threshold\n",
    "</ul>\n",
    "<li>The function should return a dataframe that contains three columns (count, mean, stdev) and four index values (High+, High-, Low+, Low-)\n",
    "    <p><b>Note: </b>we have to deal with nan percent changes. For the purposes of this assignment, you can either classify it as a High- (in which case you'll get the results below) or classify the one Nan in the pct change column as \"unknown\" (your results for the High- row below will be slightly different).<p>\n",
    "For the sample data your function should return a dataframe with the following values:\n",
    "\n",
    "<pre>\n",
    "        count\tmean\tstdev\n",
    "High+\t49\t75.603826\t13.270096\n",
    "High-\t42\t75.658000\t15.283640\n",
    "Low+\t101\t74.644790\t11.997251\n",
    "Low-\t58\t72.191838\t9.949705\n",
    "</pre>\n",
    "\n"
   ]
  },
  {
   "cell_type": "markdown",
   "metadata": {},
   "source": [
    "<h3>read_csv</h3>\n",
    "The pandas <span style=\"color:red\">read_csv</span> function reads data from a delimited file (default delimiter = comma) into a pandas dataframe. It automatically detects a header line (use header=None if the file does not contain a header)\n",
    "<li><a href=\"https://pandas.pydata.org/pandas-docs/stable/reference/api/pandas.read_csv.html\">read_csv documentation</a>\n"
   ]
  },
  {
   "cell_type": "markdown",
   "metadata": {},
   "source": [
    "<h2>Sample data</h2>\n",
    "Use the attached SBUX.csv file"
   ]
  },
  {
   "cell_type": "code",
   "execution_count": 29,
   "metadata": {},
   "outputs": [],
   "source": [
    "def change_groups(datafile,threshold):\n",
    "    import pandas as pd\n",
    "    import numpy as np\n",
    "    # read in data as dataframe without column names\n",
    "    df = pd.read_csv(datafile, header=None)\n",
    "    # set column names\n",
    "    df.columns = ['Date', 'Price']\n",
    "    \n",
    "    # create column for 1 day percent change\n",
    "    df['1 Day Percent Change'] = df['Price'].pct_change()\n",
    "    \n",
    "    # multiply percent change by 100 to be in the same form as the threshold\n",
    "    df['1 Day Percent Change'] = df['1 Day Percent Change'] * 100\n",
    "    \n",
    "    # inner grouping definition used to designate every percent change into its respective group according to the defintions\n",
    "    # of the four categories outlined above\n",
    "    def GroupColFunc(df, ind, col, threshold):\n",
    "        if df[col].loc[ind] > threshold:\n",
    "            return 'High+'\n",
    "        elif df[col].loc[ind] == 0 or (df[col].loc[ind] > 0 and df[col].loc[ind] <= threshold):\n",
    "            return 'Low+'\n",
    "        elif df[col].loc[ind] < 0 and df[col].loc[ind] >= -1 * threshold:\n",
    "            return 'Low-'\n",
    "        else:\n",
    "            return 'High-'\n",
    "        \n",
    "    # groups by each category in the inner definition by using a lambda function\n",
    "    grouped = df.groupby(lambda x: GroupColFunc(df, x, '1 Day Percent Change', threshold))\n",
    "    \n",
    "    # creates each group\n",
    "    count = grouped.count()['Date']\n",
    "    mean = grouped.mean()['Price']\n",
    "    stdev = grouped.std()['Price']\n",
    "    \n",
    "    \n",
    "    return pd.DataFrame({'count':count,'mean':mean,'stdev':stdev})\n"
   ]
  },
  {
   "cell_type": "code",
   "execution_count": 30,
   "metadata": {},
   "outputs": [
    {
     "data": {
      "text/html": [
       "<div>\n",
       "<style scoped>\n",
       "    .dataframe tbody tr th:only-of-type {\n",
       "        vertical-align: middle;\n",
       "    }\n",
       "\n",
       "    .dataframe tbody tr th {\n",
       "        vertical-align: top;\n",
       "    }\n",
       "\n",
       "    .dataframe thead th {\n",
       "        text-align: right;\n",
       "    }\n",
       "</style>\n",
       "<table border=\"1\" class=\"dataframe\">\n",
       "  <thead>\n",
       "    <tr style=\"text-align: right;\">\n",
       "      <th></th>\n",
       "      <th>count</th>\n",
       "      <th>mean</th>\n",
       "      <th>stdev</th>\n",
       "    </tr>\n",
       "  </thead>\n",
       "  <tbody>\n",
       "    <tr>\n",
       "      <td>High+</td>\n",
       "      <td>49</td>\n",
       "      <td>75.603826</td>\n",
       "      <td>13.270096</td>\n",
       "    </tr>\n",
       "    <tr>\n",
       "      <td>High-</td>\n",
       "      <td>42</td>\n",
       "      <td>75.658000</td>\n",
       "      <td>15.283640</td>\n",
       "    </tr>\n",
       "    <tr>\n",
       "      <td>Low+</td>\n",
       "      <td>101</td>\n",
       "      <td>74.644790</td>\n",
       "      <td>11.997251</td>\n",
       "    </tr>\n",
       "    <tr>\n",
       "      <td>Low-</td>\n",
       "      <td>58</td>\n",
       "      <td>72.191838</td>\n",
       "      <td>9.949705</td>\n",
       "    </tr>\n",
       "  </tbody>\n",
       "</table>\n",
       "</div>"
      ],
      "text/plain": [
       "       count       mean      stdev\n",
       "High+     49  75.603826  13.270096\n",
       "High-     42  75.658000  15.283640\n",
       "Low+     101  74.644790  11.997251\n",
       "Low-      58  72.191838   9.949705"
      ]
     },
     "execution_count": 30,
     "metadata": {},
     "output_type": "execute_result"
    }
   ],
   "source": [
    "change_groups(\"SBUX.csv\",1.0)"
   ]
  },
  {
   "cell_type": "markdown",
   "metadata": {},
   "source": [
    "<h1>Problem 2</h1>\n",
    "A manufacturer has data on orders from customers and product prices in two dataframes (see below). They want to use this data to answer the following questions:\n",
    "<ol>\n",
    "    <li>Which customer is responsible for the most revenue</li>\n",
    "    <li>Which customer is responsible for the highest profit</li>\n",
    "    <li>Which product is responsible for the highest (dollar) profit</li>\n",
    "    <li>Which customer and product combination is responsible for the most orders</li>\n",
    "</ol>\n",
    "<p>\n",
    "Obviously, your code should work for any actual data values!\n",
    "<p>For the data below: your answers should be:\n",
    "    \n",
    "<pre>\n",
    "Customer with most profit: 005\n",
    "Customer with most revenue: 007\n",
    "Product with most profit: 011\n",
    "Customer 001 with product 010 with 4 orders is the most ordered customer product pair\n",
    "</pre>"
   ]
  },
  {
   "cell_type": "markdown",
   "metadata": {},
   "source": [
    "<h2>Useful functions:</h2>\n",
    "<li><a href=\"https://pandas.pydata.org/pandas-docs/stable/reference/api/pandas.DataFrame.sort_values.html\">pd.sort_values</a> Use the <span style=\"color:red\">by</span> keyword to chose a sort column and <span style=\"color:red\">ascending=False</span> to sort in descending order</li>\n",
    "<li><a href=\"https://pandas.pydata.org/pandas-docs/stable/reference/api/pandas.DataFrame.join.html\">pandas dataframe join</a> the last example on the linked page is probably what you need here!</li>\n",
    "<li><a href=\"https://pandas.pydata.org/pandas-docs/stable/reference/api/pandas.DataFrame.groupby.html\">pd.groupby</a></li>"
   ]
  },
  {
   "cell_type": "code",
   "execution_count": 31,
   "metadata": {},
   "outputs": [],
   "source": [
    "import pandas as pd\n",
    "import numpy as np\n",
    "order_data = pd.DataFrame([[\"001\",\"010\",24],\n",
    "                           [\"007\",\"012\",35],\n",
    "                           [\"001\",\"011\",15],\n",
    "                           [\"005\",\"010\",30],\n",
    "                           [\"007\",\"011\",17],\n",
    "                           [\"005\",\"011\",81],\n",
    "                           [\"001\",\"010\",32],\n",
    "                           [\"007\",\"012\",89],\n",
    "                           [\"001\",\"010\",16],\n",
    "                           [\"001\",\"010\",33]],columns=[\"customer\",\"product\",\"amount\"])\n",
    "products = pd.DataFrame([['010',22.3,17.2],\n",
    "                        ['011',11.7,5.5],\n",
    "                        ['012',62.5,61.4]],columns=['product','price','cost'])                     "
   ]
  },
  {
   "cell_type": "code",
   "execution_count": 32,
   "metadata": {},
   "outputs": [
    {
     "name": "stdout",
     "output_type": "stream",
     "text": [
      "Customer with most revenue: 007\n",
      "Customer with most profit: 005\n",
      "Product with most profit: 011\n",
      "Customer 001 with product 010 with 4 is the most ordered customer product pair\n"
     ]
    }
   ],
   "source": [
    "# joins the data on the column, product\n",
    "df_joined = order_data.join(products.set_index('product'), on='product')\n",
    "\n",
    "# defines and creates a column for revenue\n",
    "df_joined['revenue'] = df_joined['amount'] * df_joined['price']\n",
    "\n",
    "# defines and creates a column for profit\n",
    "df_joined['profit'] = df_joined['amount'] * df_joined['price'] - df_joined['amount'] * df_joined['cost']\n",
    "\n",
    "# groups by customer and extracts the revenue\n",
    "customer_revenue = df_joined.groupby('customer')['revenue']\n",
    "\n",
    "# groups by customer and extracts the profit\n",
    "customer_profit = df_joined.groupby('customer')['profit']\n",
    "\n",
    "# groups by product and extracts the profit\n",
    "product_profit = df_joined.groupby('product')['profit']\n",
    "\n",
    "# groups by customer and product\n",
    "customer_orders = df_joined.groupby(['customer', 'product'])\n",
    "\n",
    "# prints the customer with maximum revenue\n",
    "print(\"Customer with most revenue: \" + customer_revenue.sum().idxmax())\n",
    "\n",
    "# print the customer with the maximum profit\n",
    "print(\"Customer with most profit: \" + customer_profit.sum().idxmax())\n",
    "\n",
    "# prints the product with the maximum profit\n",
    "print(\"Product with most profit: \" + product_profit.sum().idxmax())\n",
    "\n",
    "# prints the name of the customer with the most number of order, the product used, and the number of orders\n",
    "print(\"Customer \" + customer_orders['product'].count().idxmax()[0] + \" with product \" + \n",
    "      customer_orders['product'].count().idxmax()[1] + \" with \" + str(customer_orders['product'].count().max()) +\n",
    "     \" is the most ordered customer product pair\")"
   ]
  },
  {
   "cell_type": "code",
   "execution_count": null,
   "metadata": {},
   "outputs": [],
   "source": []
  }
 ],
 "metadata": {
  "kernelspec": {
   "display_name": "Python 3",
   "language": "python",
   "name": "python3"
  },
  "language_info": {
   "codemirror_mode": {
    "name": "ipython",
    "version": 3
   },
   "file_extension": ".py",
   "mimetype": "text/x-python",
   "name": "python",
   "nbconvert_exporter": "python",
   "pygments_lexer": "ipython3",
   "version": "3.7.3"
  }
 },
 "nbformat": 4,
 "nbformat_minor": 2
}
