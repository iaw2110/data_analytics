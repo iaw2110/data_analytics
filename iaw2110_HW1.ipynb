{
 "cells": [
  {
   "cell_type": "markdown",
   "metadata": {},
   "source": [
    "<h2>Problem 1: Simple string manipulation</h2>"
   ]
  },
  {
   "cell_type": "markdown",
   "metadata": {},
   "source": [
    "Equity data providers often add exchange information to a ticker symbol when reporting pricing or other data (primarily to resolve cross-exchange ambiguities). Reuters uses a coding scheme known as Reuters Instrument Code (RIC) where exchange information is added to the ticker following a dot at the end of the ticker symbol.\n",
    "\n",
    "For example, the RIC IBM.N indicates that a data item corresponds to IBM on the NYSE, IBM.L indicates that a data item corresponds to IBM on the London Stock Exchange, VOD.OQ for Vodafone on the NASDAQ stock exchange, etc.\n",
    "\n",
    "Write a program that takes as input a Reuters RIC and separates out the ticker and the exchange. You may assume:\n",
    "\n",
    "1. that the only \"non-letter\" character in the ticker is the dot and there will be only one dot\n",
    "\n",
    "2. that every ticker has an exchange symbol (i.e., IBM.N and not IBM)\n",
    "\n",
    "3. that the tickers and exchanges are valid (you don't need to check if the exchange identifer is valid)\n",
    "\n"
   ]
  },
  {
   "cell_type": "markdown",
   "metadata": {},
   "source": [
    "<h3>Test your code with the following test examples</h3>\n",
    "\n",
    "<h4>Example 1</h4>\n",
    "Please enter a Reuters RIC symbol: VOD.OQ\n",
    "<br>\n",
    "The traded exchange for VOD is OQ\n",
    "<p>\n",
    "<h4>Example 2</h4>\n",
    "Please enter a Reuters RIC symbol: IBM.L\n",
    "<br>\n",
    "The traded exchange for IBM is L\n",
    "<h4>Example 3</h4>\n",
    "Please enter a Reuters RIC symbol: GOOG.OQ\n",
    "<br>\n",
    "The traded exchange for GOOG is OQ"
   ]
  },
  {
   "cell_type": "code",
   "execution_count": 1,
   "metadata": {},
   "outputs": [
    {
     "name": "stdout",
     "output_type": "stream",
     "text": [
      "Please enter a Reuters RIC symbol: GOOG.OQ\n",
      "The traded exchange for GOOG is OQ\n"
     ]
    }
   ],
   "source": [
    "#PROBLEM 1 SOLUTION\n",
    "ric = input('Please enter a Reuters RIC symbol: ')\n",
    "\n",
    "# find function finds the location of the '.' in the input string\n",
    "print('The traded exchange for ' + ric[:ric.find('.')] + ' is ' + ric[ric.find('.') + 1:])"
   ]
  },
  {
   "cell_type": "markdown",
   "metadata": {},
   "source": [
    "<h2>Problem 2: Simple Arithmetic and string formatting</h2>\n",
    "Write a program that converts an amount given in a foreign currency into USD. Your program should input the foreign currency symbol, the amount in foreign currency being converted, and the exchange rate to USD. Your program should print out the equivalent amount in USD (including the $ symbol). \n",
    "\n",
    "<b>You will need to research string formatting on your own!</b>\n",
    "\n",
    "Example:\n",
    "\n",
    "Please enter the foreign currency symbol: EUR<br>\n",
    "Please enter the amount in EUR: 1.11<br>\n",
    "Please enter the exchange rate (1 EUR to USD): 100.00<br>\n",
    "The equivalent USD amount is: $111.00 <br>\n",
    "\n",
    "Notes:\n",
    "\n",
    "1. Your output should be formatted correctly with a dollar sign and with cents rounded up to two decimal places \n",
    "\n",
    "2. Assume that the input is in the right format. I.e., when a number is requested, the user will enter a number (in other words, no error checking is necessary)"
   ]
  },
  {
   "cell_type": "code",
   "execution_count": 2,
   "metadata": {},
   "outputs": [
    {
     "name": "stdout",
     "output_type": "stream",
     "text": [
      "Please enter the foreign currency symbol: EUR\n",
      "Please enter the amount in EUR: 1.11\n",
      "Please enter the exchange rate (1 EUR to USD): 100.00\n",
      "The equivalent USD amount is: $111.00\n"
     ]
    }
   ],
   "source": [
    "#PROBLEM 2 SOLUTION\n",
    "currency = input('Please enter the foreign currency symbol: ')\n",
    "amount = input('Please enter the amount in ' + currency + ': ')\n",
    "exchange = input('Please enter the exchange rate (1 ' + currency +  ' to USD): ')\n",
    "\n",
    "# format with '.2f' formats the output string so that it has 2 decimal places for the cents\n",
    "print('The equivalent USD amount is: ' + '$' + str(format(float(amount) * float(exchange), '.2f')))"
   ]
  },
  {
   "cell_type": "markdown",
   "metadata": {},
   "source": [
    "<h1>Problem 3:</h1>\n",
    "Often, when dealing with data, continuous features are converted into categorical ones. Write a function <i><span style=\"color:red\">encode_array</style></i> that converts continuous data into categorical data using a conversion scheme. \n",
    "\n",
    "For example:\n",
    "if:<br>\n",
    "input_array = (17,5,36,22,54,34,19,65,102)\n",
    "\n",
    "and the categorical scheme is:<br>\n",
    "category_limits = (10,20,30,40,50,60,70,80)<br>\n",
    "\n",
    "* values less than 10 are in category 0, values between 10 (inclusive) and less than 20 are in category 1, etc. Values greater than or equal to 80 are in category 8.\n",
    "\n",
    "and your function call is:<br>\n",
    "encode_array(input_array,category_limits)\n",
    "\n",
    "the output should be:<br>\n",
    "[1, 0, 3, 2, 5, 3, 1, 6, 8]\n",
    "\n",
    "Notes:\n",
    "\n",
    "1. Assume that the category limits are in the form of a list as in the example above\n",
    "\n",
    "2. There are many ways to write this function but you must encapsulate the encode function inside the encode_array function. Use the template below as a guideline\n",
    "\n",
    "3. If category_limits is an empty list (or tuple), your function should return a list of all zeros \n",
    "\n",
    "4. If input_array is an empty list (or tuple), your function should return an empty list\n",
    "\n",
    "5. You might find the <a href=\"http://book.pythontips.com/en/latest/for_-_else.html\">for ... else ...</a> structure useful for this problem "
   ]
  },
  {
   "cell_type": "code",
   "execution_count": 3,
   "metadata": {},
   "outputs": [],
   "source": [
    "#PROBLEM 3 SOLUTION\n",
    "def encode_array(input_array,category_limits):\n",
    "    \n",
    "    # if category_limits is empty, returns a list of length of the input_array with all 0's\n",
    "    if not category_limits:\n",
    "        return ([0] * len(input_array))\n",
    "    \n",
    "    # if input_array is empty, returns an empty list\n",
    "    if not input_array:\n",
    "        return []\n",
    "    \n",
    "    # encodes the input_array values based off of the inputs from category_limits\n",
    "    else:\n",
    "        def encode(input_value, category_limits):\n",
    "            for i in range(len(category_limits)):\n",
    "                if input_value < 10:\n",
    "                    return 0\n",
    "                elif input_value >= category_limits[i-1] and input_value < category_limits[i]:\n",
    "                    return i\n",
    "            else:\n",
    "                return 8\n",
    "     \n",
    "    # instantiates empty output list\n",
    "    encoding = []\n",
    "    for value in input_array:\n",
    "        encoding.append(encode(value, category_limits))\n",
    "        \n",
    "    return encoding"
   ]
  },
  {
   "cell_type": "code",
   "execution_count": 4,
   "metadata": {},
   "outputs": [
    {
     "data": {
      "text/plain": [
       "[1, 0, 3, 2, 5, 3, 1, 6, 8]"
      ]
     },
     "execution_count": 4,
     "metadata": {},
     "output_type": "execute_result"
    }
   ],
   "source": [
    "input_array = (17,5,36,22,54,34,19,65,102)\n",
    "category_limits = (10,20,30,40,50,60,70,80)\n",
    "encode_array(input_array,category_limits) #should return [1, 0, 3, 2, 5, 3, 1, 6, 8]"
   ]
  },
  {
   "cell_type": "code",
   "execution_count": 5,
   "metadata": {},
   "outputs": [
    {
     "data": {
      "text/plain": [
       "[0, 0, 0, 0, 0, 0, 0, 0, 0]"
      ]
     },
     "execution_count": 5,
     "metadata": {},
     "output_type": "execute_result"
    }
   ],
   "source": [
    "input_array = (17,5,36,22,54,34,19,65,102)\n",
    "category_limits = ()\n",
    "encode_array(input_array,category_limits) #should return [0, 0, 0, 0, 0, 0, 0, 0, 0]"
   ]
  },
  {
   "cell_type": "code",
   "execution_count": 7,
   "metadata": {},
   "outputs": [
    {
     "data": {
      "text/plain": [
       "[]"
      ]
     },
     "execution_count": 7,
     "metadata": {},
     "output_type": "execute_result"
    }
   ],
   "source": [
    "input_array = ()\n",
    "category_limits = (10,20,30,40,50,60,70,80)\n",
    "encode_array(input_array,category_limits) #should return []"
   ]
  },
  {
   "cell_type": "markdown",
   "metadata": {},
   "source": [
    "<h1>Problem 4: Word counts</h1>\n",
    "Write a function <span style=\"color:red\">word_count</span> that takes a text string as an argument and returns a dictionary containing the count of words in that string\n",
    "\n",
    "For example: \n",
    "\n",
    "For the  string \"It was the best of times it was the worst of times\", your function should return the following dictionary:\n",
    "\n",
    "{'It': 1,\n",
    " 'best': 1,\n",
    " 'it': 1,\n",
    " 'of': 2,\n",
    " 'the': 2,\n",
    " 'times': 2,\n",
    " 'was': 2,\n",
    " 'worst': 1}\n",
    " \n",
    " Notes:\n",
    " \n",
    " 1. Assume that there is no punctuation, not even the end of sentence period, in the string, only words separated by spaces. \n",
    " \n",
    " 2. The function <span style=\"color:red\">split</span> splits a string on spaces. An example call of the function is: <span style=\"color:red\">\"hello fellow\".split()</span> which will return the list <span style=\"color:red\">['hello', 'fellow']</span>\n",
    " \n",
    " 3. Treat words with different cases as different words (\"hello\" and \"Hello\" are not the same word)\n",
    " \n",
    " 4. You might find the <a href=\"http://book.pythontips.com/en/latest/for_-_else.html\">for ... else ...</a> structure useful for this problem \n",
    " \n",
    " 5. If the string is empty, the function should return an empty dictionary"
   ]
  },
  {
   "cell_type": "code",
   "execution_count": 8,
   "metadata": {},
   "outputs": [],
   "source": [
    "#PROBLEM 4 SOLUTION\n",
    "def word_count(text):\n",
    "    \n",
    "    # if the string is empty, returns an empty dictionary\n",
    "    if not text:\n",
    "        return {}\n",
    "    \n",
    "    # splits the string on spaces\n",
    "    else:\n",
    "        # instantiates output dictionary\n",
    "        word_counts = {}\n",
    "        words = text.split()\n",
    "        \n",
    "        # counts the number of appearances of each word in the string\n",
    "        for word in words:\n",
    "            if word not in word_counts:\n",
    "                word_counts[word] = 1\n",
    "            else:\n",
    "                word_counts[word] = word_counts[word] + 1\n",
    "                \n",
    "    return word_counts"
   ]
  },
  {
   "cell_type": "code",
   "execution_count": 9,
   "metadata": {},
   "outputs": [
    {
     "data": {
      "text/plain": [
       "{'It': 1,\n",
       " 'was': 2,\n",
       " 'the': 2,\n",
       " 'best': 1,\n",
       " 'of': 2,\n",
       " 'times': 2,\n",
       " 'it': 1,\n",
       " 'worst': 1}"
      ]
     },
     "execution_count": 9,
     "metadata": {},
     "output_type": "execute_result"
    }
   ],
   "source": [
    "#Should return {'It': 1, 'best': 1, 'it': 1, 'of': 2, 'the': 2, 'times': 2, 'was': 2, 'worst': 1}\n",
    "text1 = \"It was the best of times it was the worst of times\"\n",
    "word_count(text1)"
   ]
  },
  {
   "cell_type": "code",
   "execution_count": 10,
   "metadata": {},
   "outputs": [
    {
     "data": {
      "text/plain": [
       "{}"
      ]
     },
     "execution_count": 10,
     "metadata": {},
     "output_type": "execute_result"
    }
   ],
   "source": [
    "#Should return {}\n",
    "text1 = \"\"\n",
    "word_count(text1)"
   ]
  },
  {
   "cell_type": "markdown",
   "metadata": {},
   "source": [
    "<h1>Problem 5: word encodings and vocabulary</h1>\n",
    "Many text mining problems use word encodings as an input to the analytic process. The idea behind word encodings is very simple: a corpus of documents (corpus = \"many documents\" in simple English!) contains a vocabulary (the set of words used across all documents). The vocabulary is textual (\"green\", \"people\", \"carrots\") but data analysis works better with numeric data. The solution is to replace each word with a numeric code. For example, if the corpus contains two documents:\n",
    "\n",
    "doc1 = \"it was the best of times it was the worst of times\"<br>\n",
    "doc2 = \"The good times of today are the sad thoughts of tomorrow\"\n",
    "\n",
    "Then we can represent word encodings by the following dictionary:\n",
    "\n",
    "{'are': 9,\n",
    " 'best': 3,\n",
    " 'good': 7,\n",
    " 'it': 0,\n",
    " 'of': 4,\n",
    " 'sad': 10,\n",
    " 'the': 2,\n",
    " 'thoughts': 11,\n",
    " 'times': 5,\n",
    " 'today': 8,\n",
    " 'tomorrow': 12,\n",
    " 'was': 1,\n",
    " 'worst': 6}\n",
    " \n",
    " If you look at the dictionary carefully, the encoding process should be very clear. \"it\" was the first word in the first document and it was encoded as a 0. \"was\" was the second word and it was encoded as a 1. And so on. \n",
    " \n",
    " Write a function <span style=\"color:blue\">vocabulary</span> that takes a list of documents as an argument and returns a dictionary containing the encoded vocabulary\n",
    " \n",
    " Notes:\n",
    " \n",
    " 1. Assume that each document is a single text string containing words separated by spaces and with absolutely no punctuation\n",
    "\n",
    "2. If the corpus is empty, the function should return an empty dictionary\n",
    " "
   ]
  },
  {
   "cell_type": "code",
   "execution_count": 11,
   "metadata": {},
   "outputs": [],
   "source": [
    "#PROBLEM 5 SOLUTION\n",
    "def vocabulary(corpus):\n",
    "    \n",
    "    # if the corpus is empty, returns an empty dictionary\n",
    "    if not corpus:\n",
    "        return {}\n",
    "    \n",
    "    else:\n",
    "        \n",
    "        # instantiates output dictionary\n",
    "        encoding = {}\n",
    "        \n",
    "        # instantiates counter for word encoding\n",
    "        counter = 0\n",
    "        \n",
    "        # individually splits each document in the corpus and encodes\n",
    "        for doc in corpus:\n",
    "            doc = doc.lower()\n",
    "            words = doc.split()\n",
    "            for word in words:\n",
    "                if word not in encoding:\n",
    "                    encoding[word] = counter\n",
    "                    counter += 1\n",
    "\n",
    "    return encoding"
   ]
  },
  {
   "cell_type": "code",
   "execution_count": 12,
   "metadata": {},
   "outputs": [
    {
     "data": {
      "text/plain": [
       "{'it': 0,\n",
       " 'was': 1,\n",
       " 'the': 2,\n",
       " 'best': 3,\n",
       " 'of': 4,\n",
       " 'times': 5,\n",
       " 'worst': 6,\n",
       " 'good': 7,\n",
       " 'today': 8,\n",
       " 'are': 9,\n",
       " 'sad': 10,\n",
       " 'thoughts': 11,\n",
       " 'tomorrow': 12}"
      ]
     },
     "execution_count": 12,
     "metadata": {},
     "output_type": "execute_result"
    }
   ],
   "source": [
    "#Test your function with the following example. \n",
    "#Should return: \n",
    "#{'are': 9, 'best': 3, 'good': 7, 'it': 0, 'of': 4, 'sad': 10, 'the': 2, 'thoughts': 11, 'times': 5, 'today': 8, 'tomorrow': 12, 'was': 1, 'worst': 6}\n",
    "doc1 = \"it was the best of times it was the worst of times\"\n",
    "doc2 = \"the good times of today are the sad thoughts of tomorrow\"\n",
    "\n",
    "vocabulary([doc1,doc2])\n"
   ]
  },
  {
   "cell_type": "markdown",
   "metadata": {},
   "source": [
    "<h1>Problem 6: word_vectors</h1>\n",
    "The  <span style=\"color:red\">vocabulary</span> function returns a dictionary containing the word encoded vocabulary associated with the corpus. Once the encoding is done, each document can be replaced by a <span style=\"color:blue\">word vector</span> that indicates which words (from the vocabulary) are present in the document and with what frequency. For example, given the corpus:\n",
    "\n",
    "doc1 = \"it was the best of times it was the worst of times\"\n",
    "doc2 = \"The good times of today are the sad thoughts of tomorrow\"\n",
    "\n",
    "the word vector corresponding to doc1 is:\n",
    "\n",
    "[2, 2, 2, 1, 2, 2, 1, 0, 0, 0, 0, 0, 0]\n",
    "\n",
    "Note that the length of the vector is equal to the length of the entire vocabulary. Each location in the word vector corresponds to the code for the corresponding word in the vocabulary. The value at each location is the frequency of the word in the document. Thus, location 0 corresponds to the word \"it\" which occurs twice in the doc1. Location 3 corresponds to \"best\" which occurs once in doc1. \n",
    "\n",
    "Write a function <span style=\"color:red\">word_vectors</span> that takes a list of texts as an argument and returns a list of word vectors. \n",
    "\n",
    "Notes:\n",
    "\n",
    "1. Use the word_count function to get word frequencies\n",
    "\n",
    "2. Use the vocabulary function to get the encoded vocabulary for the corpus\n",
    "\n",
    "3. You can construct a list of zeros of a given length using <span style=\"color:blue\">[0]*n</span> where n is an integer. <span style=\"color:blue\">[0] * len(vocabulary)</span> will return a list of zeros of the length of the vocabulary. Create this list for each document and update individual locations by their corresponding frequencies in the document"
   ]
  },
  {
   "cell_type": "code",
   "execution_count": 13,
   "metadata": {},
   "outputs": [
    {
     "data": {
      "text/plain": [
       "[0, 0, 0, 0, 0, 0]"
      ]
     },
     "execution_count": 13,
     "metadata": {},
     "output_type": "execute_result"
    }
   ],
   "source": [
    "[0]*6"
   ]
  },
  {
   "cell_type": "code",
   "execution_count": 14,
   "metadata": {},
   "outputs": [],
   "source": [
    "#PROBLEM 6 SOLUTION\n",
    "def word_vectors(corpus):\n",
    "    vocab = vocabulary(corpus)\n",
    "    \n",
    "    # instantiates output vector\n",
    "    vector_list = []\n",
    "    \n",
    "    # iterates through each document in the corpus and creates each document's word frequency list\n",
    "    for doc in corpus:\n",
    "        vector = [0] * len(vocab)\n",
    "        count = word_count(doc)\n",
    "        \n",
    "        # looks at each key in the vocabulary dictionary and sets its value in the document vector to equal the number of times\n",
    "        # it appears in the corresponding document\n",
    "        for key in vocab: \n",
    "            vector[vocab.get(key)] = count.get(key, 0)\n",
    "        vector_list.append(vector)\n",
    "    return(vector_list)       "
   ]
  },
  {
   "cell_type": "code",
   "execution_count": 15,
   "metadata": {},
   "outputs": [
    {
     "data": {
      "text/plain": [
       "[[2, 2, 2, 1, 2, 2, 1, 0, 0, 0, 0, 0, 0],\n",
       " [0, 0, 2, 0, 2, 1, 0, 1, 1, 1, 1, 1, 1]]"
      ]
     },
     "execution_count": 15,
     "metadata": {},
     "output_type": "execute_result"
    }
   ],
   "source": [
    "#Test your code with the following example\n",
    "\"\"\"\n",
    "The function should return a list of two lists:\n",
    "[[2, 2, 2, 1, 2, 2, 1, 0, 0, 0, 0, 0, 0],\n",
    " [0, 0, 2, 0, 2, 1, 0, 1, 1, 1, 1, 1, 1]]\n",
    "\"\"\"\n",
    "doc1 = \"it was the best of times it was the worst of times\"\n",
    "doc2 = \"the good times of today are the sad thoughts of tomorrow\"\n",
    "word_vectors([doc1,doc2])"
   ]
  }
 ],
 "metadata": {
  "kernelspec": {
   "display_name": "Python 3",
   "language": "python",
   "name": "python3"
  },
  "language_info": {
   "codemirror_mode": {
    "name": "ipython",
    "version": 3
   },
   "file_extension": ".py",
   "mimetype": "text/x-python",
   "name": "python",
   "nbconvert_exporter": "python",
   "pygments_lexer": "ipython3",
   "version": "3.7.1"
  }
 },
 "nbformat": 4,
 "nbformat_minor": 2
}
