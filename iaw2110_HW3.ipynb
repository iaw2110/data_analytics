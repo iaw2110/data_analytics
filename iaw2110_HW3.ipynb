{
 "cells": [
  {
   "cell_type": "markdown",
   "metadata": {},
   "source": [
    "<h1>Scraping fidelity.com</h1>\n",
    "In this assignment, you will scrape data from fidelity.com. The goal of the exercise is to get the latest sector performance data from the US markets, and to get the total market capitalization for each sector. \n",
    "\n",
    "The end result is to write a function: <i>get_us_sector_performance()</i> that will return a list of tuples. Each tuple should correspond to a sector and should contain the following data:\n",
    "<li>the sector name\n",
    "<li>the amount the sector has moved\n",
    "<li>the market capitalization of the sector\n",
    "<li>the market weight of the sector\n",
    "<li>a link to the fidelity page for that sector\n",
    "\n",
    "<p>\n",
    "The data should be sorted by decreasing order of market weight. I.e., the sector with the highest weight should be in the first tuple, etc."
   ]
  },
  {
   "cell_type": "markdown",
   "metadata": {},
   "source": [
    "<h3>Process</h3>\n",
    "<li>Get a list of sectors and the links to the sector detail pages from the url (see function)\n",
    "<li>Loop through the list and call the function <i>get_sector_change_and_market_cap(sector_page_link)</i> for each sector\n",
    "<li>Accumulate the name, the change, the capitalization, the weight and the link for each sector in output_list (see function)\n",
    "<li>Sort the list by market weight"
   ]
  },
  {
   "cell_type": "markdown",
   "metadata": {},
   "source": [
    "<b>Notes:</b>\n",
    "<li>Note that the market weight is a string with a % sign at the back. You will need to get rid of the % and convert the string into a float before you can sort it\n",
    "<li>Your starting data is the url listed below. You need to extract all data, including links to the sector pages, from the page at this url\n",
    "<li>To sort a list of tuples by an arbitrary element, use the example at the bottom of this notebook"
   ]
  },
  {
   "cell_type": "code",
   "execution_count": 9,
   "metadata": {},
   "outputs": [],
   "source": [
    "def get_us_sector_performance():\n",
    "    import requests\n",
    "    from bs4 import BeautifulSoup\n",
    "    output_list = list()\n",
    "    url = \"https://eresearch.fidelity.com/eresearch/goto/markets_sectors/landing.jhtml\"\n",
    "    response = requests.get(url)\n",
    "    soup = BeautifulSoup(response.content, 'lxml')\n",
    "    \n",
    "    # get each sector\n",
    "    sector_list = soup.find_all('a', {'class':'heading1'})\n",
    "\n",
    "    # looks through each sector and gets its hyperlink in order to use get_sector_change_and_market_cap\n",
    "    for sector in sector_list:\n",
    "        href = sector.get('href')\n",
    "        new_url = 'https://eresearch.fidelity.com/' + href\n",
    "        \n",
    "        # saves tuple output from get_sector_change_and_market_cap\n",
    "        sector_change_and_market_cap = get_sector_change_and_market_cap(new_url)\n",
    "        \n",
    "        # appends each tuple to the output list\n",
    "        output_list.append((sector.get_text().strip(), sector_change_and_market_cap[0], sector_change_and_market_cap[1], \n",
    "                            sector_change_and_market_cap[2], new_url))\n",
    "\n",
    "    # sorts the output list by market weight in descending order\n",
    "    output_list.sort(reverse=True, key = lambda x: x[3])\n",
    "    \n",
    "    return output_list\n",
    "    "
   ]
  },
  {
   "cell_type": "code",
   "execution_count": 10,
   "metadata": {},
   "outputs": [],
   "source": [
    "def get_sector_change_and_market_cap(sector_page_link):\n",
    "    import requests\n",
    "    from bs4 import BeautifulSoup\n",
    "    response = requests.get(sector_page_link)\n",
    "    soup = BeautifulSoup(response.content, 'lxml')\n",
    "    \n",
    "    # checks if the sector_change is positive or negative and gets either the positive or negative number\n",
    "    if soup.find('span', {'class':'negative'}) == None:\n",
    "        sector_change = soup.find('span', {'class':'positive'})\n",
    "    else:\n",
    "        sector_change = soup.find('span', {'class':'negative'})\n",
    "        \n",
    "    # strips the '%' off the value\n",
    "    sector_change = sector_change.get_text().strip()[:-1]\n",
    "    # converts the string into a float to match the desired output\n",
    "    sector_change = float(sector_change)\n",
    "    \n",
    "    # finds everything with a 'td' tag and then uses the 2nd string which has the market cap and partitions the string into\n",
    "    # two lines so that the date can be easily excluded and then takes just the market cap value\n",
    "    sector_market_cap = soup.find_all('td')[1].get_text().strip().partition('\\n')[0]\n",
    "    \n",
    "    # finds the 'td', {'class':'left-spcng'} tag corresponding to market weight and partitions the string into two lines\n",
    "    # so that the date can be easily excluded and then takes just the market weight and removes the '%' so it can be made into\n",
    "    # a float to match the output and so the tuples can be sorted\n",
    "    sector_market_weight = soup.find('td', {'class':'left-spcng'}).get_text().strip().partition('\\n')[0][:-1]\n",
    "    sector_market_weight = float(sector_market_weight)\n",
    "    \n",
    "    return sector_change,sector_market_cap,sector_market_weight"
   ]
  },
  {
   "cell_type": "code",
   "execution_count": 11,
   "metadata": {},
   "outputs": [
    {
     "data": {
      "text/plain": [
       "(0.83, '$5.23T', 10.08)"
      ]
     },
     "execution_count": 11,
     "metadata": {},
     "output_type": "execute_result"
    }
   ],
   "source": [
    "#Test get_sector_change_and_market_cap()\n",
    "link = \"https://eresearch.fidelity.com/eresearch/markets_sectors/sectors/sectors_in_market.jhtml?tab=learn&sector=25\"\n",
    "get_sector_change_and_market_cap(link)\n",
    "#Should return something like (-1.0, '$5.49T', 10.24)\n",
    "#Note that the conversion to int of the change and the weight"
   ]
  },
  {
   "cell_type": "code",
   "execution_count": 12,
   "metadata": {},
   "outputs": [
    {
     "data": {
      "text/plain": [
       "[('Information Technology',\n",
       "  1.28,\n",
       "  '$7.90T',\n",
       "  21.82,\n",
       "  'https://eresearch.fidelity.com//eresearch/markets_sectors/sectors/sectors_in_market.jhtml?tab=learn&sector=45'),\n",
       " ('Health Care',\n",
       "  1.37,\n",
       "  '$5.39T',\n",
       "  13.6,\n",
       "  'https://eresearch.fidelity.com//eresearch/markets_sectors/sectors/sectors_in_market.jhtml?tab=learn&sector=35'),\n",
       " ('Financials',\n",
       "  0.14,\n",
       "  '$7.19T',\n",
       "  13.02,\n",
       "  'https://eresearch.fidelity.com//eresearch/markets_sectors/sectors/sectors_in_market.jhtml?tab=learn&sector=40'),\n",
       " ('Communication Services',\n",
       "  0.43,\n",
       "  '$4.54T',\n",
       "  10.38,\n",
       "  'https://eresearch.fidelity.com//eresearch/markets_sectors/sectors/sectors_in_market.jhtml?tab=learn&sector=50'),\n",
       " ('Consumer Discretionary',\n",
       "  0.83,\n",
       "  '$5.23T',\n",
       "  10.08,\n",
       "  'https://eresearch.fidelity.com//eresearch/markets_sectors/sectors/sectors_in_market.jhtml?tab=learn&sector=25'),\n",
       " ('Industrials',\n",
       "  0.37,\n",
       "  '$4.12T',\n",
       "  9.37,\n",
       "  'https://eresearch.fidelity.com//eresearch/markets_sectors/sectors/sectors_in_market.jhtml?tab=learn&sector=20'),\n",
       " ('Consumer Staples',\n",
       "  0.72,\n",
       "  '$3.92T',\n",
       "  7.6,\n",
       "  'https://eresearch.fidelity.com//eresearch/markets_sectors/sectors/sectors_in_market.jhtml?tab=learn&sector=30'),\n",
       " ('Energy',\n",
       "  -0.6,\n",
       "  '$3.10T',\n",
       "  4.57,\n",
       "  'https://eresearch.fidelity.com//eresearch/markets_sectors/sectors/sectors_in_market.jhtml?tab=learn&sector=10'),\n",
       " ('Utilities',\n",
       "  0.19,\n",
       "  '$1.49T',\n",
       "  3.61,\n",
       "  'https://eresearch.fidelity.com//eresearch/markets_sectors/sectors/sectors_in_market.jhtml?tab=learn&sector=55'),\n",
       " ('Real Estate',\n",
       "  0.46,\n",
       "  '$1.39T',\n",
       "  3.23,\n",
       "  'https://eresearch.fidelity.com//eresearch/markets_sectors/sectors/sectors_in_market.jhtml?tab=learn&sector=60'),\n",
       " ('Materials',\n",
       "  0.73,\n",
       "  '$1.82T',\n",
       "  2.72,\n",
       "  'https://eresearch.fidelity.com//eresearch/markets_sectors/sectors/sectors_in_market.jhtml?tab=learn&sector=15')]"
      ]
     },
     "execution_count": 12,
     "metadata": {},
     "output_type": "execute_result"
    }
   ],
   "source": [
    "#Test get_us_sector_performance()\n",
    "get_us_sector_performance()"
   ]
  },
  {
   "cell_type": "markdown",
   "metadata": {},
   "source": [
    "<h2>Example of the return value</h2>\n",
    "<pre>\n",
    "[('Materials',\n",
    "  -1.19,\n",
    "  '$1.88T',\n",
    "  2.67,\n",
    "  'https://eresearch.fidelity.com/eresearch/markets_sectors/sectors/sectors_in_market.jhtml?tab=learn&sector=15'),\n",
    " ('Real Estate',\n",
    "  0.45,\n",
    "  '$1.37T',\n",
    "  3.25,\n",
    "  'https://eresearch.fidelity.com/eresearch/markets_sectors/sectors/sectors_in_market.jhtml?tab=learn&sector=60'),\n",
    " ('Utilities',\n",
    "  -0.05,\n",
    "  '$1.45T',\n",
    "  3.42,\n",
    "  'https://eresearch.fidelity.com/eresearch/markets_sectors/sectors/sectors_in_market.jhtml?tab=learn&sector=55'),\n",
    " ('Energy',\n",
    "  2.8,\n",
    "  '$3.13T',\n",
    "  4.45,\n",
    "  'https://eresearch.fidelity.com/eresearch/markets_sectors/sectors/sectors_in_market.jhtml?tab=learn&sector=10'),\n",
    " ('Consumer Staples',\n",
    "  -0.72,\n",
    "  '$3.94T',\n",
    "  7.54,\n",
    "  'https://eresearch.fidelity.com/eresearch/markets_sectors/sectors/sectors_in_market.jhtml?tab=learn&sector=30'),\n",
    " ('Industrials',\n",
    "  -0.07,\n",
    "  '$4.22T',\n",
    "  9.23,\n",
    "  'https://eresearch.fidelity.com/eresearch/markets_sectors/sectors/sectors_in_market.jhtml?tab=learn&sector=20'),\n",
    " ('Consumer Discretionary',\n",
    "  -0.99,\n",
    "  '$5.49T',\n",
    "  10.24,\n",
    "  'https://eresearch.fidelity.com/eresearch/markets_sectors/sectors/sectors_in_market.jhtml?tab=learn&sector=25'),\n",
    " ('Communication Services',\n",
    "  -0.61,\n",
    "  '$4.70T',\n",
    "  10.48,\n",
    "  'https://eresearch.fidelity.com/eresearch/markets_sectors/sectors/sectors_in_market.jhtml?tab=learn&sector=50'),\n",
    " ('Financials',\n",
    "  -0.45,\n",
    "  '$7.18T',\n",
    "  12.79,\n",
    "  'https://eresearch.fidelity.com/eresearch/markets_sectors/sectors/sectors_in_market.jhtml?tab=learn&sector=40'),\n",
    " ('Health Care',\n",
    "  -0.1,\n",
    "  '$5.49T',\n",
    "  13.74,\n",
    "  'https://eresearch.fidelity.com/eresearch/markets_sectors/sectors/sectors_in_market.jhtml?tab=learn&sector=35'),\n",
    " ('Information Technology',\n",
    "  -0.15,\n",
    "  '$8.13T',\n",
    "  22.19,\n",
    "  'https://eresearch.fidelity.com/eresearch/markets_sectors/sectors/sectors_in_market.jhtml?tab=learn&sector=45')]\n",
    "  </pre>"
   ]
  },
  {
   "cell_type": "markdown",
   "metadata": {},
   "source": [
    "<h3>Sorting</h3>\n",
    "<li>the <span style=\"color:red\">sort</span> function sorts a list \"in-place\". I.e., the list itself changes so that the contents are in sorted order</li>\n",
    "<li>the <span style=\"color:red\">sorting</span> function returns a new sorted list</li>\n",
    "<li>both functions take arguments that determine the key (<span style=\"color:red\">key=</span>) and the order. Ascending is the default order, to flip it use <span style=\"color:red\">reverse=True</span></li>\n",
    "<li>sort and sorted will only work if the data is sortable. For example, sorted([1,9,2,8,11,'a']) will not work because an integer and a string cannot be ordered. In Python, the order operator is the < (less than) sign</li>"
   ]
  },
  {
   "cell_type": "code",
   "execution_count": 125,
   "metadata": {},
   "outputs": [
    {
     "name": "stdout",
     "output_type": "stream",
     "text": [
      "[1, 2, 8, 9, 11]\n",
      "[11, 9, 8, 2, 1]\n",
      "[1, 9, 2, 8, 11]\n",
      "[1, 2, 8, 9, 11]\n"
     ]
    }
   ],
   "source": [
    "x = [1,9,2,8,11]\n",
    "x.sort()\n",
    "print(x) #x is now a sorted list\n",
    "x.sort(reverse=True)\n",
    "print(x) #x is not sorted in descending order\n",
    "\n",
    "y = [1,9,2,8,11]\n",
    "sorted(y)\n",
    "print(y) #y is unchanged because sorted(y) returned a new list\n",
    "\n",
    "z = sorted(y)\n",
    "print(z) #z contains the sorted contents of y"
   ]
  },
  {
   "cell_type": "markdown",
   "metadata": {},
   "source": [
    "<h3>comparing tuples</h3"
   ]
  },
  {
   "cell_type": "code",
   "execution_count": 126,
   "metadata": {},
   "outputs": [
    {
     "data": {
      "text/plain": [
       "True"
      ]
     },
     "execution_count": 126,
     "metadata": {},
     "output_type": "execute_result"
    }
   ],
   "source": [
    "(1,2,3,5) < (1,2,4,1) \n",
    "#Python does an element wise comparison, somewhat like when strings are compared\n",
    "#When sorting tuples (or lists), that element wise comparison is used to determine ordering"
   ]
  },
  {
   "cell_type": "code",
   "execution_count": 127,
   "metadata": {},
   "outputs": [
    {
     "data": {
      "text/plain": [
       "[('a', 23.2, 'b'),\n",
       " ('c', 17.4, 'f'),\n",
       " ('d', 29.2, 'a'),\n",
       " ('d', 29.2, 'z'),\n",
       " ('e', 1.74, 'bb')]"
      ]
     },
     "execution_count": 127,
     "metadata": {},
     "output_type": "execute_result"
    }
   ],
   "source": [
    "x = [('c',17.4,'f'),('e',1.74,'bb'),('d',29.2,'z'),('a',23.2,'b'),('d',29.2,'a')]\n",
    "x.sort() #Sorts using tuple comparison, going left to right. Note the order of the 'd' tuples\n",
    "x"
   ]
  },
  {
   "cell_type": "markdown",
   "metadata": {},
   "source": [
    "<li>When a key is specified, sort (and sorted) will only use that key\n",
    "<li>In the example below, note that the two 'd' tuples are not re-ordered (because 'z' and 'a' are not compared)\n",
    "<li>sort and sorted are stable sort functions. If two elements are \"equal\" (per the sorting rule), they will be returned in the same order as they were in the original array"
   ]
  },
  {
   "cell_type": "code",
   "execution_count": 128,
   "metadata": {},
   "outputs": [
    {
     "data": {
      "text/plain": [
       "[('e', 1.74, 'bb'),\n",
       " ('c', 17.4, 'f'),\n",
       " ('a', 23.2, 'b'),\n",
       " ('d', 29.2, 'z'),\n",
       " ('d', 29.2, 'a')]"
      ]
     },
     "execution_count": 128,
     "metadata": {},
     "output_type": "execute_result"
    }
   ],
   "source": [
    "x = [('c',17.4,'f'),('e',1.74,'bb'),('d',29.2,'z'),('a',23.2,'b'),('d',29.2,'a')]\n",
    "x.sort(key=lambda k: k[1]) \n",
    "x"
   ]
  },
  {
   "cell_type": "code",
   "execution_count": 129,
   "metadata": {},
   "outputs": [
    {
     "data": {
      "text/plain": [
       "[('e', 1.74, 'bb'),\n",
       " ('c', 17.4, 'f'),\n",
       " ('a', 23.2, 'b'),\n",
       " ('d', 29.2, 'z'),\n",
       " ('d', 29.2, 'a')]"
      ]
     },
     "execution_count": 129,
     "metadata": {},
     "output_type": "execute_result"
    }
   ],
   "source": [
    "#If you don't \"get\" lambda functions!\n",
    "#itemgetter returns the item at the specified index in a collection\n",
    "#the key= below tells sort to use the element at location 1 when comparing elements in x\n",
    "from operator import itemgetter\n",
    "x = [('c',17.4,'f'),('e',1.74,'bb'),('d',29.2,'z'),('a',23.2,'b'),('d',29.2,'a')]\n",
    "x.sort(key=itemgetter(1)) \n",
    "x"
   ]
  }
 ],
 "metadata": {
  "kernelspec": {
   "display_name": "Python 3",
   "language": "python",
   "name": "python3"
  },
  "language_info": {
   "codemirror_mode": {
    "name": "ipython",
    "version": 3
   },
   "file_extension": ".py",
   "mimetype": "text/x-python",
   "name": "python",
   "nbconvert_exporter": "python",
   "pygments_lexer": "ipython3",
   "version": "3.7.1"
  }
 },
 "nbformat": 4,
 "nbformat_minor": 2
}
